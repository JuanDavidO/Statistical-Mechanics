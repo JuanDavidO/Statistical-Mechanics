{
 "cells": [
  {
   "cell_type": "code",
   "execution_count": 31,
   "metadata": {
    "collapsed": false
   },
   "outputs": [
    {
     "name": "stdout",
     "output_type": "stream",
     "text": [
      "Populating the interactive namespace from numpy and matplotlib\n"
     ]
    }
   ],
   "source": [
    "%pylab inline\n",
    "def a(Funds):\n",
    "    ran=random.random()\n",
    "    if(ran<1/37.):\n",
    "        return Funds+36\n",
    "    else:\n",
    "        return Funds-1"
   ]
  },
  {
   "cell_type": "code",
   "execution_count": 70,
   "metadata": {
    "collapsed": false
   },
   "outputs": [
    {
     "data": {
      "image/png": "[encoded data removed]",
      "text/plain": [
       "<matplotlib.figure.Figure at 0x7f435abcb350>"
      ]
     },
     "metadata": {},
     "output_type": "display_data"
    }
   ],
   "source": [
    "Funds=100\n",
    "FundsDist=[]\n",
    "for i in xrange(100):\n",
    "    Funds=a(Funds)\n",
    "    FundsDist.append(Funds)\n",
    "mylist = list(xrange(len(FundsDist)))\n",
    "plot(mylist, FundsDist)\n",
    "media=mean(FundsDist)\n",
    "print media"
   ]
  },
  {
   "cell_type": "code",
   "execution_count": 72,
   "metadata": {
    "collapsed": false
   },
   "outputs": [
    {
     "data": {
      "text/plain": [
       "(array([  5.,   3.,  16.,  16.,  11.,  12.,  11.,   9.,   8.,   9.]),\n",
       " array([  95. ,  103.4,  111.8,  120.2,  128.6,  137. ,  145.4,  153.8,\n",
       "         162.2,  170.6,  179. ]),\n",
       " <a list of 10 Patch objects>)"
      ]
     },
     "execution_count": 72,
     "metadata": {},
     "output_type": "execute_result"
    },
    {
     "data": {
      "image/png": "[encoded data removed]",
      "text/plain": [
       "<matplotlib.figure.Figure at 0x7f435af58090>"
      ]
     },
     "metadata": {},
     "output_type": "display_data"
    }
   ],
   "source": [
    "hist(FundsDist)"
   ]
  },
  {
   "cell_type": "code",
   "execution_count": 89,
   "metadata": {
    "collapsed": false
   },
   "outputs": [
    {
     "name": "stdout",
     "output_type": "stream",
     "text": [
      "100.89485\n"
     ]
    },
    {
     "data": {
      "image/png": "[encoded data removed]",
      "text/plain": [
       "<matplotlib.figure.Figure at 0x7f435a580690>"
      ]
     },
     "metadata": {},
     "output_type": "display_data"
    }
   ],
   "source": [
    "BigFundsDist=[]\n",
    "for j in xrange(1000):\n",
    "    Funds=100\n",
    "    FundsDist=[]\n",
    "    for i in xrange(100):\n",
    "        Funds=a(Funds)\n",
    "        FundsDist.append(Funds)\n",
    "    BigFundsDist.extend(FundsDist)\n",
    "#mylist = list(xrange(len(FundsDist)))\n",
    "#plot(mylist, FundsDist)\n",
    "BigMedia=mean(BigFundsDist)\n",
    "hist(BigFundsDist)\n",
    "print BigMedia"
   ]
  },
  {
   "cell_type": "code",
   "execution_count": null,
   "metadata": {
    "collapsed": true
   },
   "outputs": [],
   "source": []
  }
 ],
 "metadata": {
  "kernelspec": {
   "display_name": "Python 2",
   "language": "python",
   "name": "python2"
  },
  "language_info": {
   "codemirror_mode": {
    "name": "ipython",
    "version": 2
   },
   "file_extension": ".py",
   "mimetype": "text/x-python",
   "name": "python",
   "nbconvert_exporter": "python",
   "pygments_lexer": "ipython2",
   "version": "2.7.6"
  }
 },
 "nbformat": 4,
 "nbformat_minor": 0
}
