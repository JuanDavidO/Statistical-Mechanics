{
 "cells": [
  {
   "cell_type": "markdown",
   "metadata": {},
   "source": [
    "# Primer Punto - Teoría de juegos y cooperación"
   ]
  },
  {
   "cell_type": "markdown",
   "metadata": {},
   "source": [
    "El juego de snowdrift se diferencia del dilema del prisionero en que el primero la mejor estrategia es hacer lo opuesto a la estrategia del oponente, i.e. si el oponente colabora, yo no, y viceverza. Mientras tanto en el dilema del prisionero siempre hay incentivo para no colaborar, i.e. independientemente de la estrategia del otro, siempre es mejor para mi no colaborar.\n",
    "\n",
    "Dado que la levadura siempre se puede quedar con una pequeña parte del azúcar que procesa, su estrategia prospera y hay un equilibrio entre las dos poblaciones. Si se redujera la eficiencia de captura del azúcar producida, las cooperadoras no tendrían esa pequeña ventaja y las no-cooperadoras siempre tendrían las de ganar, llevando a las primeras a la extinción. Otra forma alternativa sería elevar el costo de la cooperación, lo que hace que, a pesar de tener una ventaja (quedarse con un poco del azúcar), cooperar sea inviable por el costo metabólico asociado, de nuevo haciendo más atractiva la estrategia no cooperativa. Para elevar el costo de la cooperación se puede disminuir la concentración de histidina.\n",
    "\n",
    "Finalmente, la manera más sencilla de transformar el juego es aumentar la concentración de glucosa, de esa manera las no-cooperadoras no dependen de las cooperadoras y su estrategia resultará siempre en tener un fitness mayor, llevando a las segundas a la extinción. Al aumentar la glucosa en el medio es posible que se disminuya la tasa de crecimiento promedio (hay menos azúcar disponible en total), pero siempre terminan ganando las no cooperadoras."
   ]
  },
  {
   "cell_type": "markdown",
   "metadata": {},
   "source": [
    "# Segundo punto - Modelo de Moran"
   ]
  },
  {
   "cell_type": "markdown",
   "metadata": {},
   "source": [
    "Si suponemos mutaciones perjudiciales con fitness de 4/6 y individuos no-mutados con fitness 6/6, el fitness total de la población sería F_t=4/6+(N-1), y con esto puedo calcular las probabilidades de que se reproduzcan los *wild type* o los mutados."
   ]
  },
  {
   "cell_type": "code",
   "execution_count": 1,
   "metadata": {
    "collapsed": false
   },
   "outputs": [
    {
     "name": "stdout",
     "output_type": "stream",
     "text": [
      "Populating the interactive namespace from numpy and matplotlib\n"
     ]
    }
   ],
   "source": [
    "%pylab inline"
   ]
  },
  {
   "cell_type": "code",
   "execution_count": 2,
   "metadata": {
    "collapsed": false
   },
   "outputs": [],
   "source": [
    "t=[]\n",
    "N=3\n",
    "for j in range(100):\n",
    "    poblaciones=zeros((10,2))  #10 poblaciones con 2 estados posibles\n",
    "    poblaciones[:,0],poblaciones[:,1]=N-1,1\n",
    "    F_t=poblaciones[:,0]+(4./6.)*poblaciones[:,1]\n",
    "    generaciones=0\n",
    "    while(size(where(poblaciones[:,1]>0))>5):\n",
    "        F_t=poblaciones[:,0]+(4./6.)*poblaciones[:,1]\n",
    "        #Nacimiento\n",
    "        nace=[]\n",
    "        for i in range(size(F_t)):\n",
    "            if(F_t[i]*random.random()<poblaciones[i,0]):\n",
    "                nace.append(0)\n",
    "            else:\n",
    "                nace.append(1)\n",
    "        #Muere\n",
    "        muere=[]\n",
    "        for i in range(size(F_t)):\n",
    "            if(N*random.random()<poblaciones[i,0]):\n",
    "                muere.append(0)\n",
    "            else:\n",
    "                muere.append(1)\n",
    "        #Actualice\n",
    "        for i in range(size(F_t)):\n",
    "            poblaciones[i,nace[i]]=poblaciones[i,nace[i]]+1\n",
    "            poblaciones[i,muere[i]]=poblaciones[i,muere[i]]-1\n",
    "        #print generaciones\n",
    "        #print poblaciones\n",
    "        generaciones=generaciones+1  \n",
    "    t.append(generaciones)"
   ]
  },
  {
   "cell_type": "code",
   "execution_count": 21,
   "metadata": {
    "collapsed": false
   },
   "outputs": [
    {
     "data": {
      "text/plain": [
       "<matplotlib.text.Text at 0x7f0db5c5ed10>"
      ]
     },
     "execution_count": 21,
     "metadata": {},
     "output_type": "execute_result"
    },
    {
     "data": {
      "image/png": "[encoded data removed]",
      "text/plain": [
       "<matplotlib.figure.Figure at 0x7f0db6057e50>"
      ]
     },
     "metadata": {},
     "output_type": "display_data"
    }
   ],
   "source": [
    "hist(t)\n",
    "title(\"Histograma de frecuencias para el numero de rondas en que desaparece el mutante de la mitad de las poblaciones para N=3\")"
   ]
  },
  {
   "cell_type": "code",
   "execution_count": 16,
   "metadata": {
    "collapsed": false
   },
   "outputs": [
    {
     "name": "stdout",
     "output_type": "stream",
     "text": [
      "El tiempo promedio para que desaparezcan los individuos mutantes de la mitad de las poblaciones\n",
      "si cada poblacion tiene tres individuos es  3.6 rondas\n"
     ]
    }
   ],
   "source": [
    "print \"El tiempo promedio para que desaparezcan los individuos mutantes de la mitad de las poblaciones\"\n",
    "print \"si cada poblacion tiene tres individuos es \",average(t),\"rondas\""
   ]
  },
  {
   "cell_type": "code",
   "execution_count": 15,
   "metadata": {
    "collapsed": false
   },
   "outputs": [],
   "source": [
    "t2=[]\n",
    "N=6\n",
    "for j in range(100):\n",
    "    poblaciones=zeros((10,2))  #10 poblaciones con 2 estados posibles\n",
    "    poblaciones[:,0],poblaciones[:,1]=N-1,1\n",
    "    F_t=poblaciones[:,0]+(4./6.)*poblaciones[:,1]\n",
    "    generaciones=0\n",
    "    while(size(where(poblaciones[:,1]>0))>5):\n",
    "        F_t=poblaciones[:,0]+(4./6.)*poblaciones[:,1]\n",
    "        #Nacimiento\n",
    "        nace=[]\n",
    "        for i in range(size(F_t)):\n",
    "            if(F_t[i]*random.random()<poblaciones[i,0]):\n",
    "                nace.append(0)\n",
    "            else:\n",
    "                nace.append(1)\n",
    "        #Muere\n",
    "        muere=[]\n",
    "        for i in range(size(F_t)):\n",
    "            if(N*random.random()<poblaciones[i,0]):\n",
    "                muere.append(0)\n",
    "            else:\n",
    "                muere.append(1)\n",
    "        #Actualice\n",
    "        for i in range(size(F_t)):\n",
    "            poblaciones[i,nace[i]]=poblaciones[i,nace[i]]+1\n",
    "            poblaciones[i,muere[i]]=poblaciones[i,muere[i]]-1\n",
    "        #print generaciones\n",
    "        #print poblaciones\n",
    "        generaciones=generaciones+1  \n",
    "    t2.append(generaciones)"
   ]
  },
  {
   "cell_type": "code",
   "execution_count": 20,
   "metadata": {
    "collapsed": false
   },
   "outputs": [
    {
     "data": {
      "text/plain": [
       "<matplotlib.text.Text at 0x7f0db5d197d0>"
      ]
     },
     "execution_count": 20,
     "metadata": {},
     "output_type": "execute_result"
    },
    {
     "data": {
      "image/png": "[encoded data removed]",
      "text/plain": [
       "<matplotlib.figure.Figure at 0x7f0db5f839d0>"
      ]
     },
     "metadata": {},
     "output_type": "display_data"
    }
   ],
   "source": [
    "hist(t2)\n",
    "title(\"Histograma de frecuencias para el numero de rondas en que desaparece el mutante de la mitad de las poblaciones\")"
   ]
  },
  {
   "cell_type": "code",
   "execution_count": 14,
   "metadata": {
    "collapsed": false
   },
   "outputs": [
    {
     "name": "stdout",
     "output_type": "stream",
     "text": [
      "El tiempo promedio para que desaparezcan los individuos mutantes de la mitad de las poblaciones \n",
      "si cada poblacion tiene tres individuos es  5.75 rondas\n"
     ]
    }
   ],
   "source": [
    "print \"El tiempo promedio para que desaparezcan los individuos mutantes de la mitad de las poblaciones \"\n",
    "print \"si cada poblacion tiene tres individuos es \",average(t2),\"rondas\""
   ]
  },
  {
   "cell_type": "markdown",
   "metadata": {
    "collapsed": true
   },
   "source": [
    "# Tercer punto - Evolución de la cooperación"
   ]
  },
  {
   "cell_type": "markdown",
   "metadata": {},
   "source": [
    "## Kin selection"
   ]
  },
  {
   "cell_type": "markdown",
   "metadata": {},
   "source": [
    "Este comportamiento es benéfico para el gen que lo cause pues, asumiendo un modelo básico de Mendel para la transmisión, si yo me sacrifico por dos hermanos entonces de todas formas sobrevivirán dos copias del gen, perdiendo una (la mía). De igual forma, al sacrificarse por cuatro primos, estadísticamente, sobrevivirían al menos dos copias"
   ]
  },
  {
   "cell_type": "markdown",
   "metadata": {},
   "source": [
    "## Greenbeard"
   ]
  },
  {
   "cell_type": "markdown",
   "metadata": {},
   "source": [
    "Esto produce un beneficio porque entre los de barba verde nos ayudamos y así se incrementa nuestro fitness. Yo puedo saber a quién ayudar y de quién esperar ayuda, los otros saben que pueden ayudarme y esperar un comportamiento recíproco de mi parte.\n",
    "\n",
    "Por otro lado, otro gen podría provecharse de esta estrategia si puede ver la señal y fingirla, aprovechándose del beneficio sin ningún costo de aportar a los demás."
   ]
  },
  {
   "cell_type": "markdown",
   "metadata": {},
   "source": [
    "## Selección de grupo"
   ]
  },
  {
   "cell_type": "markdown",
   "metadata": {},
   "source": [
    "Es difícil que un comportamiento de este tipo surja a menos que alcance una cierta \"masa crítica\", i.e. un cierto número mínimo de organismos cooperantes, esto es porque los no cooperantes en el grupo se aprovecharían de los cooperantes, aumentando su fitness e imponiéndose en la población.\n",
    "\n",
    "Sin embargo este comportamiento puede ser beneficioso porque entre todos los los individuos del grupo cooperante se pueden dividir el costo equitativamente (asumiendo que la colaboración es aleatoria y un juego largo de varias rondas), mientras todos disfrutan del beneficio en general."
   ]
  },
  {
   "cell_type": "markdown",
   "metadata": {},
   "source": [
    "# Cuarto punto - Redes"
   ]
  },
  {
   "cell_type": "markdown",
   "metadata": {},
   "source": [
    "## a. \n",
    "### Grado de entrada y salida"
   ]
  },
  {
   "cell_type": "markdown",
   "metadata": {},
   "source": [
    "| Nodo  | Grado de entrada  |  Grado de salida |  \n",
    "|---|---|---|\n",
    "| A  |2   |2   |\n",
    "|  B | 0  | 3  |\n",
    "|   C|  1 |  2 |\n",
    "|D   |   3|   1|\n",
    "|E   | 3  |2   |\n",
    "| F  |  2 | 1  |"
   ]
  },
  {
   "cell_type": "markdown",
   "metadata": {},
   "source": [
    "### Camino más corto entre cada par de nodos\n",
    "\n",
    "Para esta parte se contará el número de vértices que hay que usar para llegar del nodo inicio al nodo destino. Si el número de vértices es cero significa que ese camino no es posible, si es uno que la ruta es directa, i.e. que los nodos inicio y destino están conectados por un vértice en esa dirección. Si se requere de más de un vértice se indica la ruta o rutas más cortas a continuación.\n",
    "\n",
    "|Nodo origen y destino|Número de vértices|Rutas|\n",
    "|---|---|---|\n",
    "|AB      |0      |      |\n",
    "|AC      | 0     |      |\n",
    "|AD      |  2    |AFD      |\n",
    "|AE      |   1   |      |\n",
    "|AF      |    1  |      |\n",
    "|BA      |1      |      |\n",
    "|  BC    | 1     |      |\n",
    "|    BD  |  1    |      |\n",
    "|BE      |   2   |BAE / BDE / BCE      |\n",
    "|  BF    |    2  |BAF      |\n",
    "|CA            |2               |CEA            |\n",
    "|  CB          | 0              |            |\n",
    "|    CD        |  1             |            |\n",
    "|      CE      |   1            |            |\n",
    "|        CF    |    2           |   CEF         |\n",
    "|DA            |     2          |      DEA      |\n",
    "|  DB          |      0         |            |\n",
    "|    DC        |       0        |            |\n",
    "|      DE      |        1       |            |\n",
    "|        DF    |         2      |         DEF   |\n",
    "|EA            |1               |            |\n",
    "|  EB          | 0              |            |\n",
    "|    EC        |  0             |            |\n",
    "|      ED      |   2            |EFD            |\n",
    "|        EF    |    1           |            |\n",
    "|FA            |     3          |   FDEA         |\n",
    "|  FB          |      0         |            |\n",
    "|    FC        |       0        |            |\n",
    "|      FD      |        1       |            |\n",
    "|        FE    |         2      |       FDE     |"
   ]
  },
  {
   "cell_type": "markdown",
   "metadata": {
    "collapsed": true
   },
   "source": [
    "### Cuántos nodos influencia y por cuántos es influenciado cada nodo\n",
    "\n",
    "|Nodo|Influencia|Es influenciado|\n",
    "|-|-|-|\n",
    "|A      |3      |5      |\n",
    "| B     | 5     | 0     |\n",
    "|  C    |  4    |  1    |\n",
    "|   D   |   3   |   5   |\n",
    "|    E  |    3  |    5  |\n",
    "|     F |     3 |     5 |"
   ]
  },
  {
   "cell_type": "markdown",
   "metadata": {},
   "source": [
    "## b."
   ]
  },
  {
   "cell_type": "markdown",
   "metadata": {},
   "source": [
    "De acuerdo al grado del nodo, el nodo más importante sería el B, pues tiene es el nodo con el mayor grado de salida, tres.\n",
    "\n",
    "De acuerdo al número de caminos más cortos entre cada par de nodos, se utiliza el concepto de intermediación en centralidad y normalizando al dividir entre $(n-1)(n-1)$:\n",
    "\n",
    "$$\n",
    "C_{Bet}(i)=\\sum_{j,k} \\frac{b_{ijk}}{b_{jk}}\n",
    "$$\n",
    "\n",
    "Así, los puntajes serían \n",
    "\n",
    "|Nodo| $C_{Bet}(i)$ |$C_{Bet}(i)$ normalizado|\n",
    "|-|-|-|\n",
    "|A     |4/3     |1/15      |\n",
    "| B    |   0  |0      |\n",
    "|  C   |    1/3 |1/60      |\n",
    "|   D  |4/3     |1/15      |\n",
    "|    E |   5  |1/4      |\n",
    "|     F|    2 |1/10      |\n",
    "\n",
    "Finalmente, de acuerdo a la influencia, el más importante sería el B, pues influencia a todos los otros nodos, directa o indirectamente."
   ]
  },
  {
   "cell_type": "markdown",
   "metadata": {},
   "source": [
    "## c.\n",
    "Sí tiende a valores estacionarios, a continuación su evolución, el valor estacionario y el valor después de tres rondas."
   ]
  },
  {
   "cell_type": "code",
   "execution_count": 8,
   "metadata": {
    "collapsed": false
   },
   "outputs": [
    {
     "name": "stdout",
     "output_type": "stream",
     "text": [
      "Populating the interactive namespace from numpy and matplotlib\n",
      "Los valores estacionarios serian, sucesivamente para a,b,c,d,e y f\n",
      "9.62429010246 0.0 0.0 16.4649398077 17.3585203693 16.5522497205\n",
      "Los valores despues de tres rondas serian, sucesivamente para a,b,c,d,e y f\n",
      "12.1275 0.0 0.0 14.4 16.125 17.3475\n"
     ]
    },
    {
     "name": "stderr",
     "output_type": "stream",
     "text": [
      "WARNING: pylab import has clobbered these variables: ['step', 'f', 'e']\n",
      "`%matplotlib` prevents importing * from pylab and numpy\n"
     ]
    }
   ],
   "source": [
    "%pylab inline\n",
    "a=10.\n",
    "b=10.\n",
    "c=10.\n",
    "d=10.\n",
    "e=10.\n",
    "f=10.\n",
    "a_list=[]\n",
    "b_list=[]\n",
    "c_list=[]\n",
    "d_list=[]\n",
    "e_list=[]\n",
    "f_list=[]\n",
    "step=[]\n",
    "for i in range(25):\n",
    "    a_new=0.55*e+0.3*b\n",
    "    b_new=0.\n",
    "    c_new=0.3*b\n",
    "    d_new=0.4*b+0.6*c+f\n",
    "    e_new=0.1*a+0.4*c+d\n",
    "    f_new=0.45*e+0.9*a\n",
    "    a_list.append(a)\n",
    "    b_list.append(b)\n",
    "    c_list.append(c)\n",
    "    d_list.append(d)\n",
    "    e_list.append(e)\n",
    "    f_list.append(f)\n",
    "    step.append(i)\n",
    "    a=a_new\n",
    "    b=b_new\n",
    "    c=c_new\n",
    "    d=d_new\n",
    "    e=e_new\n",
    "    f=f_new\n",
    "print \"Los valores estacionarios serian, sucesivamente para a,b,c,d,e y f\"\n",
    "print a_new,b_new,c_new,d_new,e_new,f_new\n",
    "print \"Los valores despues de tres rondas serian, sucesivamente para a,b,c,d,e y f\"\n",
    "print a_list[3],b_list[3],c_list[3],d_list[3],e_list[3],f_list[3]"
   ]
  },
  {
   "cell_type": "code",
   "execution_count": 2,
   "metadata": {
    "collapsed": false
   },
   "outputs": [
    {
     "data": {
      "image/png": "[encoded data removed]",
      "text/plain": [
       "<matplotlib.figure.Figure at 0x7f3d20203090>"
      ]
     },
     "metadata": {},
     "output_type": "display_data"
    }
   ],
   "source": [
    "lab=[\"a\",\"b\",\"c\",\"d\",\"e\",\"f\"]\n",
    "figure(figsize=(10, 5))\n",
    "title('Valor para cada nodo por paso', y=-0.1)\n",
    "plot(step,a_list,label=lab[0],linewidth=2.0)\n",
    "plot(step,b_list,label=lab[1],linewidth=2.0)\n",
    "plot(step,c_list,label=lab[2],linewidth=2.0)\n",
    "plot(step,d_list,label=lab[3],linewidth=2.0)\n",
    "plot(step,e_list,label=lab[4],linewidth=2.0)\n",
    "plot(step,f_list,label=lab[5],linewidth=2.0)\n",
    "legend(bbox_to_anchor=(0., 1.02, 1., .102), loc=3, ncol=6, mode=\"expand\", borderaxespad=0.)\n",
    "savefig('nodos.png', dpi=100)"
   ]
  },
  {
   "cell_type": "markdown",
   "metadata": {},
   "source": [
    "# Quinto punto - Construcción de circuitos artificiales\n",
    "\n",
    "La manera de producir esas señal sería con una compuerta AND, cuya primera señal sea una chaperonina que se active con 1500 (i.e. alrededor de 1500, se hará más sensible cuanto mayor sea el coeficiente de Hill, empinando la curva) y un factor de transcripción que funcione como una compuerta NOT, es decir, que el factor que se acopla con la chaperonina sea reprimido cuando la señal de entrada supere 3000. Así sólo se producirán ambas cosas cosas necesarias, chaperonina y factor acoplado a la anterior, cuando la señal esté entre 1500 y 3000, y ese compuesto sería lo que activaría la señal de salida, i.e. la proteína final. "
   ]
  }
 ],
 "metadata": {
  "kernelspec": {
   "display_name": "Python 2",
   "language": "python",
   "name": "python2"
  },
  "language_info": {
   "codemirror_mode": {
    "name": "ipython",
    "version": 2
   },
   "file_extension": ".py",
   "mimetype": "text/x-python",
   "name": "python",
   "nbconvert_exporter": "python",
   "pygments_lexer": "ipython2",
   "version": "2.7.6"
  }
 },
 "nbformat": 4,
 "nbformat_minor": 0
}
