{
 "cells": [
  {
   "cell_type": "code",
   "execution_count": 1,
   "metadata": {
    "collapsed": false
   },
   "outputs": [
    {
     "name": "stdout",
     "output_type": "stream",
     "text": [
      "Populating the interactive namespace from numpy and matplotlib\n"
     ]
    }
   ],
   "source": [
    "%pylab inline\n",
    "def a(Funds):\n",
    "    ran=random.random()\n",
    "    if(ran<18/37.):\n",
    "        return Funds+1\n",
    "    else:\n",
    "        return Funds-1"
   ]
  },
  {
   "cell_type": "code",
   "execution_count": 9,
   "metadata": {
    "collapsed": false
   },
   "outputs": [
    {
     "name": "stdout",
     "output_type": "stream",
     "text": [
      "96.84\n"
     ]
    },
    {
     "data": {
      "image/png": "[encoded data removed]",
      "text/plain": [
       "<matplotlib.figure.Figure at 0x7f4a6d49f050>"
      ]
     },
     "metadata": {},
     "output_type": "display_data"
    }
   ],
   "source": [
    "Funds=100\n",
    "FundsDist=[]\n",
    "for i in xrange(100):\n",
    "    Funds=a(Funds)\n",
    "    FundsDist.append(Funds)\n",
    "mylist = list(xrange(len(FundsDist)))\n",
    "plot(mylist, FundsDist)\n",
    "media=mean(FundsDist)\n",
    "print media"
   ]
  },
  {
   "cell_type": "code",
   "execution_count": 10,
   "metadata": {
    "collapsed": false
   },
   "outputs": [
    {
     "name": "stdout",
     "output_type": "stream",
     "text": [
      "98.67638\n"
     ]
    },
    {
     "data": {
      "image/png": "[encoded data removed]",
      "text/plain": [
       "<matplotlib.figure.Figure at 0x7f4a6d3db790>"
      ]
     },
     "metadata": {},
     "output_type": "display_data"
    }
   ],
   "source": [
    "BigFundsDist=[]\n",
    "for j in xrange(1000):\n",
    "    Funds=100\n",
    "    FundsDist=[]\n",
    "    for i in xrange(100):\n",
    "        Funds=a(Funds)\n",
    "        FundsDist.append(Funds)\n",
    "    BigFundsDist.extend(FundsDist)\n",
    "#mylist = list(xrange(len(FundsDist)))\n",
    "#plot(mylist, FundsDist)\n",
    "BigMedia=mean(BigFundsDist)\n",
    "hist(BigFundsDist)\n",
    "print BigMedia"
   ]
  },
  {
   "cell_type": "code",
   "execution_count": null,
   "metadata": {
    "collapsed": true
   },
   "outputs": [],
   "source": []
  }
 ],
 "metadata": {
  "kernelspec": {
   "display_name": "Python 2",
   "language": "python",
   "name": "python2"
  },
  "language_info": {
   "codemirror_mode": {
    "name": "ipython",
    "version": 2
   },
   "file_extension": ".py",
   "mimetype": "text/x-python",
   "name": "python",
   "nbconvert_exporter": "python",
   "pygments_lexer": "ipython2",
   "version": "2.7.6"
  }
 },
 "nbformat": 4,
 "nbformat_minor": 0
}
