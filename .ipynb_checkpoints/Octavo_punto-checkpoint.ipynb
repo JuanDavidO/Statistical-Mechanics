{
 "cells": [
  {
   "cell_type": "markdown",
   "metadata": {},
   "source": [
    "# Primer Punto - Teoría de juegos y cooperación"
   ]
  },
  {
   "cell_type": "markdown",
   "metadata": {},
   "source": [
    "El juego de snowdrift se diferencia del dilema del prisionero en que el primero la mejor estrategia es hacer lo opuesto a la estrategia del oponente, i.e. si el oponente colabora, yo no, y viceverza. Mientras tanto en el dilema del prisionero siempre hay incentivo para no colaborar, i.e. independientemente de la estrategia del otro, siempre es mejor para mi no colaborar.\n",
    "\n",
    "Dado que la levadura siempre se puede quedar con una pequeña parte del azúcar que procesa, su estrategia prospera y hay un equilibrio entre las dos poblaciones. Si se redujera la eficiencia de captura del azúcar producida, las cooperadoras no tendrían esa pequeña ventaja y las no-cooperadoras siempre tendrían las de ganar, llevando a las primeras a la extinción. Otra forma alternativa sería elevar el costo de la cooperación, lo que hace que, a pesar de tener una ventaja (quedarse con un poco del azúcar), cooperar sea inviable por el costo metabólico asociado, de nuevo haciendo más atractiva la estrategia no cooperativa. Para elevar el costo de la cooperación se puede disminuir la concentración de histidina.\n",
    "\n",
    "Finalmente, la manera más sencilla de transformar el juego es aumentar la concentración de glucosa, de esa manera las no-cooperadoras no dependen de las cooperadoras y su estrategia resultará siempre en tener un fitness mayor, llevando a las segundas a la extinción. Al aumentar la glucosa en el medio es posible que se disminuya la tasa de crecimiento promedio (hay menos azúcar disponible en total), pero siempre terminan ganando las no cooperadoras."
   ]
  },
  {
   "cell_type": "markdown",
   "metadata": {},
   "source": [
    "# Segundo punto - Modelo de Moran"
   ]
  },
  {
   "cell_type": "markdown",
   "metadata": {},
   "source": [
    "Si suponemos mutaciones perjudiciales con fitness de 4/6 y individuos no-mutados con fitness 6/6, el fitness total de la población sería F_t=4/6+(N-1), y con esto puedo calcular las probabilidades de que se reproduzcan los *wild type* o los mutados."
   ]
  },
  {
   "cell_type": "code",
   "execution_count": 1,
   "metadata": {
    "collapsed": false
   },
   "outputs": [
    {
     "name": "stdout",
     "output_type": "stream",
     "text": [
      "Populating the interactive namespace from numpy and matplotlib\n"
     ]
    }
   ],
   "source": [
    "%pylab inline"
   ]
  },
  {
   "cell_type": "code",
   "execution_count": 2,
   "metadata": {
    "collapsed": false
   },
   "outputs": [],
   "source": [
    "t=[]\n",
    "N=3\n",
    "for j in range(100):\n",
    "    poblaciones=zeros((10,2))  #10 poblaciones con 2 estados posibles\n",
    "    poblaciones[:,0],poblaciones[:,1]=N-1,1\n",
    "    F_t=poblaciones[:,0]+(4./6.)*poblaciones[:,1]\n",
    "    generaciones=0\n",
    "    while(size(where(poblaciones[:,1]>0))>5):\n",
    "        F_t=poblaciones[:,0]+(4./6.)*poblaciones[:,1]\n",
    "        #Nacimiento\n",
    "        nace=[]\n",
    "        for i in range(size(F_t)):\n",
    "            if(F_t[i]*random.random()<poblaciones[i,0]):\n",
    "                nace.append(0)\n",
    "            else:\n",
    "                nace.append(1)\n",
    "        #Muere\n",
    "        muere=[]\n",
    "        for i in range(size(F_t)):\n",
    "            if(N*random.random()<poblaciones[i,0]):\n",
    "                muere.append(0)\n",
    "            else:\n",
    "                muere.append(1)\n",
    "        #Actualice\n",
    "        for i in range(size(F_t)):\n",
    "            poblaciones[i,nace[i]]=poblaciones[i,nace[i]]+1\n",
    "            poblaciones[i,muere[i]]=poblaciones[i,muere[i]]-1\n",
    "        #print generaciones\n",
    "        #print poblaciones\n",
    "        generaciones=generaciones+1  \n",
    "    t.append(generaciones)"
   ]
  },
  {
   "cell_type": "code",
   "execution_count": 21,
   "metadata": {
    "collapsed": false
   },
   "outputs": [
    {
     "data": {
      "text/plain": [
       "<matplotlib.text.Text at 0x7f0db5c5ed10>"
      ]
     },
     "execution_count": 21,
     "metadata": {},
     "output_type": "execute_result"
    },
    {
     "data": {
      "image/png": "[encoded data removed]",
      "text/plain": [
       "<matplotlib.figure.Figure at 0x7f0db6057e50>"
      ]
     },
     "metadata": {},
     "output_type": "display_data"
    }
   ],
   "source": [
    "hist(t)\n",
    "title(\"Histograma de frecuencias para el numero de rondas en que desaparece el mutante de la mitad de las poblaciones para N=3\")"
   ]
  },
  {
   "cell_type": "code",
   "execution_count": 13,
   "metadata": {
    "collapsed": false
   },
   "outputs": [
    {
     "name": "stdout",
     "output_type": "stream",
     "text": [
      "El tiempo promedio para que desaparezcan los individuos mutantes de la mitad de las poblaciones si cada poblacion tiene tres individuos es  3.6 rondas\n"
     ]
    }
   ],
   "source": [
    "print \"El tiempo promedio para que desaparezcan los individuos mutantes de la mitad de las poblaciones si cada poblacion tiene tres individuos es \",average(t),\"rondas\""
   ]
  },
  {
   "cell_type": "code",
   "execution_count": 15,
   "metadata": {
    "collapsed": false
   },
   "outputs": [],
   "source": [
    "t2=[]\n",
    "N=6\n",
    "for j in range(100):\n",
    "    poblaciones=zeros((10,2))  #10 poblaciones con 2 estados posibles\n",
    "    poblaciones[:,0],poblaciones[:,1]=N-1,1\n",
    "    F_t=poblaciones[:,0]+(4./6.)*poblaciones[:,1]\n",
    "    generaciones=0\n",
    "    while(size(where(poblaciones[:,1]>0))>5):\n",
    "        F_t=poblaciones[:,0]+(4./6.)*poblaciones[:,1]\n",
    "        #Nacimiento\n",
    "        nace=[]\n",
    "        for i in range(size(F_t)):\n",
    "            if(F_t[i]*random.random()<poblaciones[i,0]):\n",
    "                nace.append(0)\n",
    "            else:\n",
    "                nace.append(1)\n",
    "        #Muere\n",
    "        muere=[]\n",
    "        for i in range(size(F_t)):\n",
    "            if(N*random.random()<poblaciones[i,0]):\n",
    "                muere.append(0)\n",
    "            else:\n",
    "                muere.append(1)\n",
    "        #Actualice\n",
    "        for i in range(size(F_t)):\n",
    "            poblaciones[i,nace[i]]=poblaciones[i,nace[i]]+1\n",
    "            poblaciones[i,muere[i]]=poblaciones[i,muere[i]]-1\n",
    "        #print generaciones\n",
    "        #print poblaciones\n",
    "        generaciones=generaciones+1  \n",
    "    t2.append(generaciones)"
   ]
  },
  {
   "cell_type": "code",
   "execution_count": 20,
   "metadata": {
    "collapsed": false
   },
   "outputs": [
    {
     "data": {
      "text/plain": [
       "<matplotlib.text.Text at 0x7f0db5d197d0>"
      ]
     },
     "execution_count": 20,
     "metadata": {},
     "output_type": "execute_result"
    },
    {
     "data": {
      "image/png": "[encoded data removed]",
      "text/plain": [
       "<matplotlib.figure.Figure at 0x7f0db5f839d0>"
      ]
     },
     "metadata": {},
     "output_type": "display_data"
    }
   ],
   "source": [
    "hist(t2)\n",
    "title(\"Histograma de frecuencias para el numero de rondas en que desaparece el mutante de la mitad de las poblaciones\")"
   ]
  },
  {
   "cell_type": "code",
   "execution_count": 23,
   "metadata": {
    "collapsed": false
   },
   "outputs": [
    {
     "name": "stdout",
     "output_type": "stream",
     "text": [
      "El tiempo promedio para que desaparezcan los individuos mutantes de la mitad de las poblaciones si cada poblacion tiene tres individuos es  5.75 rondas\n"
     ]
    }
   ],
   "source": [
    "print \"El tiempo promedio para que desaparezcan los individuos mutantes de la mitad de las poblaciones si cada poblacion tiene tres individuos es \",average(t2),\"rondas\""
   ]
  },
  {
   "cell_type": "markdown",
   "metadata": {
    "collapsed": true
   },
   "source": [
    "# Tercer punto - Evolución de la cooperación"
   ]
  },
  {
   "cell_type": "markdown",
   "metadata": {},
   "source": [
    "## Kin selection"
   ]
  },
  {
   "cell_type": "markdown",
   "metadata": {},
   "source": [
    "Este comportamiento es benéfico para el gen que lo cause pues, asumiendo un modelo básico de Mendel para la transmisión, si yo me sacrifico por dos hermanos entonces de todas formas sobrevivirán dos copias del gen, perdiendo una (la mía). De igual forma, al sacrificarse por cuatro primos, estadísticamente, sobrevivirían al menos dos copias"
   ]
  },
  {
   "cell_type": "markdown",
   "metadata": {},
   "source": [
    "## Greenbeard"
   ]
  },
  {
   "cell_type": "markdown",
   "metadata": {},
   "source": [
    "Esto produce un beneficio porque entre los de barba verde nos ayudamos y así se incrementa nuestro fitness. Yo puedo saber a quién ayudar y de quién esperar ayuda, los otros saben que pueden ayudarme y esperar un comportamiento recíproco de mi parte.\n",
    "\n",
    "Por otro lado, otro gen podría provecharse de esta estrategia si puede ver la señal y fingirla, aprovechándose del beneficio sin ningún costo de aportar a los demás."
   ]
  },
  {
   "cell_type": "markdown",
   "metadata": {},
   "source": [
    "## Selección de grupo"
   ]
  },
  {
   "cell_type": "markdown",
   "metadata": {},
   "source": [
    "Es difícil que un comportamiento de este tipo surja a menos que alcance una cierta \"masa crítica\", i.e. un cierto número mínimo de organismos cooperantes, esto es porque los no cooperantes en el grupo se aprovecharían de los cooperantes, aumentando su fitness e imponiéndose en la población.\n",
    "\n",
    "Sin embargo este comportamiento puede ser beneficioso porque entre todos los los individuos del grupo cooperante se pueden dividir el costo equitativamente (asumiendo que la colaboración es aleatoria y un juego largo de varias rondas), mientras todos disfrutan del beneficio en general."
   ]
  },
  {
   "cell_type": "markdown",
   "metadata": {},
   "source": [
    "# Cuarto punto - Redes"
   ]
  },
  {
   "cell_type": "markdown",
   "metadata": {},
   "source": [
    "## a. \n",
    "### Grado de entrada y salida"
   ]
  },
  {
   "cell_type": "markdown",
   "metadata": {},
   "source": [
    "| Nodo  | Grado de entrada  |  Grado de salida |  \n",
    "|---|---|---|\n",
    "| A  |2   |2   |\n",
    "|  B | 0  | 3  |\n",
    "|   C|  1 |  2 |\n",
    "|D   |   3|   1|\n",
    "|E   | 3  |2   |\n",
    "| F  |  2 | 1  |"
   ]
  },
  {
   "cell_type": "markdown",
   "metadata": {},
   "source": [
    "### Camino más corto entre cada par de nodos\n",
    "\n",
    "Para esta parte se contará el número de vértices que hay que usar para llegar del nodo inicio al nodo destino. Si el número de vértices es cero significa que ese camino no es posible, si es uno que la ruta es directa, i.e. que los nodos inicio y destino están conectados por un vértice en esa dirección. Si se requere de más de un vértice se indica la ruta o rutas más cortas a continuación.\n",
    "\n",
    "|Nodo origen y destino|Número de vértices|Rutas|\n",
    "|---|---|---|\n",
    "|AB      |0      |      |\n",
    "|AC      | 0     |      |\n",
    "|AD      |  2    |AFD      |\n",
    "|AE      |   1   |      |\n",
    "|AF      |    1  |      |\n",
    "|BA      |1      |      |\n",
    "|  BC    | 1     |      |\n",
    "|    BD  |  1    |      |\n",
    "|BE      |   2   |BAE / BDE / BCE      |\n",
    "|  BF    |    2  |BAF      |"
   ]
  },
  {
   "cell_type": "code",
   "execution_count": null,
   "metadata": {
    "collapsed": true
   },
   "outputs": [],
   "source": []
  }
 ],
 "metadata": {
  "kernelspec": {
   "display_name": "Python 2",
   "language": "python",
   "name": "python2"
  },
  "language_info": {
   "codemirror_mode": {
    "name": "ipython",
    "version": 2
   },
   "file_extension": ".py",
   "mimetype": "text/x-python",
   "name": "python",
   "nbconvert_exporter": "python",
   "pygments_lexer": "ipython2",
   "version": "2.7.6"
  }
 },
 "nbformat": 4,
 "nbformat_minor": 0
}
